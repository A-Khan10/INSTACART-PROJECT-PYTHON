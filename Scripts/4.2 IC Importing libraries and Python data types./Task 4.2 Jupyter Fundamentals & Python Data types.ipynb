{
 "cells": [
  {
   "cell_type": "markdown",
   "id": "37318f7b",
   "metadata": {},
   "source": [
    "# Importing Libraries."
   ]
  },
  {
   "cell_type": "code",
   "execution_count": 1,
   "id": "d4caf9da",
   "metadata": {},
   "outputs": [],
   "source": [
    "# import libraries"
   ]
  },
  {
   "cell_type": "code",
   "execution_count": 3,
   "id": "8d011327",
   "metadata": {},
   "outputs": [],
   "source": [
    "import pandas as pd\n",
    "import numpy as np\n",
    "import os"
   ]
  },
  {
   "cell_type": "markdown",
   "id": "24d790fc",
   "metadata": {},
   "source": [
    "# Python Data Types"
   ]
  },
  {
   "cell_type": "code",
   "execution_count": 4,
   "id": "9f632626",
   "metadata": {},
   "outputs": [],
   "source": [
    "a = 25"
   ]
  },
  {
   "cell_type": "code",
   "execution_count": 5,
   "id": "da197a43",
   "metadata": {},
   "outputs": [],
   "source": [
    "b = 75"
   ]
  },
  {
   "cell_type": "code",
   "execution_count": 6,
   "id": "b9779740",
   "metadata": {},
   "outputs": [],
   "source": [
    "c = 35"
   ]
  },
  {
   "cell_type": "code",
   "execution_count": 10,
   "id": "9d283701",
   "metadata": {},
   "outputs": [],
   "source": [
    "d = 235"
   ]
  },
  {
   "cell_type": "code",
   "execution_count": 8,
   "id": "fb761824",
   "metadata": {},
   "outputs": [],
   "source": [
    "# 3 different ways of reaching a result of 100 by(+) or(-)"
   ]
  },
  {
   "cell_type": "code",
   "execution_count": 9,
   "id": "9cbb8dd3",
   "metadata": {},
   "outputs": [
    {
     "data": {
      "text/plain": [
       "100"
      ]
     },
     "execution_count": 9,
     "metadata": {},
     "output_type": "execute_result"
    }
   ],
   "source": [
    "a + b"
   ]
  },
  {
   "cell_type": "code",
   "execution_count": 11,
   "id": "8f34a797",
   "metadata": {},
   "outputs": [
    {
     "data": {
      "text/plain": [
       "100"
      ]
     },
     "execution_count": 11,
     "metadata": {},
     "output_type": "execute_result"
    }
   ],
   "source": [
    "d - (a + b + c)"
   ]
  },
  {
   "cell_type": "code",
   "execution_count": 12,
   "id": "04ffa0fd",
   "metadata": {},
   "outputs": [
    {
     "data": {
      "text/plain": [
       "100"
      ]
     },
     "execution_count": 12,
     "metadata": {},
     "output_type": "execute_result"
    }
   ],
   "source": [
    "d - c - b - a"
   ]
  },
  {
   "cell_type": "code",
   "execution_count": 16,
   "id": "8e0ab0d4",
   "metadata": {},
   "outputs": [],
   "source": [
    "# floting-point variables and divide them by each other."
   ]
  },
  {
   "cell_type": "code",
   "execution_count": 13,
   "id": "9930b1d1",
   "metadata": {},
   "outputs": [],
   "source": [
    "e = 9.50"
   ]
  },
  {
   "cell_type": "code",
   "execution_count": 14,
   "id": "447d05af",
   "metadata": {},
   "outputs": [],
   "source": [
    "f = 29.75"
   ]
  },
  {
   "cell_type": "code",
   "execution_count": 15,
   "id": "140fd15b",
   "metadata": {},
   "outputs": [
    {
     "data": {
      "text/plain": [
       "3.1315789473684212"
      ]
     },
     "execution_count": 15,
     "metadata": {},
     "output_type": "execute_result"
    }
   ],
   "source": [
    "f / e"
   ]
  },
  {
   "cell_type": "code",
   "execution_count": 17,
   "id": "5a8339f0",
   "metadata": {},
   "outputs": [],
   "source": [
    "# construct a short word made of separate strings. (concatenate stings)"
   ]
  },
  {
   "cell_type": "code",
   "execution_count": 21,
   "id": "56b78cdf",
   "metadata": {},
   "outputs": [],
   "source": [
    "a = 'blue'"
   ]
  },
  {
   "cell_type": "code",
   "execution_count": 22,
   "id": "2d570977",
   "metadata": {},
   "outputs": [],
   "source": [
    "b = 'berry'"
   ]
  },
  {
   "cell_type": "code",
   "execution_count": 23,
   "id": "5c5463f7",
   "metadata": {},
   "outputs": [
    {
     "data": {
      "text/plain": [
       "'blueberry'"
      ]
     },
     "execution_count": 23,
     "metadata": {},
     "output_type": "execute_result"
    }
   ],
   "source": [
    "# adding two string together\n",
    "a + b"
   ]
  },
  {
   "cell_type": "code",
   "execution_count": 25,
   "id": "e299d52d",
   "metadata": {},
   "outputs": [],
   "source": [
    "# first sentance.\n",
    "a = 'whats for dinner?'"
   ]
  },
  {
   "cell_type": "code",
   "execution_count": 26,
   "id": "265f4213",
   "metadata": {},
   "outputs": [],
   "source": [
    "# second sentance.\n",
    "b = 'I am hungry.'"
   ]
  },
  {
   "cell_type": "code",
   "execution_count": 27,
   "id": "f0d8551c",
   "metadata": {},
   "outputs": [
    {
     "data": {
      "text/plain": [
       "'whats for dinner?I am hungry.'"
      ]
     },
     "execution_count": 27,
     "metadata": {},
     "output_type": "execute_result"
    }
   ],
   "source": [
    "# Concatenates into a single steing.\n",
    "a + b"
   ]
  },
  {
   "cell_type": "code",
   "execution_count": 28,
   "id": "5e724de2",
   "metadata": {},
   "outputs": [],
   "source": [
    "# Bouns Task \n",
    "a = 'hash'"
   ]
  },
  {
   "cell_type": "code",
   "execution_count": 29,
   "id": "dfd955a4",
   "metadata": {},
   "outputs": [
    {
     "data": {
      "text/plain": [
       "'hashhashhashhashhashhashhashhashhashhashhashhashhashhashhashhashhashhashhashhashhashhashhashhashhashhashhashhashhashhashhashhashhashhashhashhashhashhashhashhashhashhashhashhashhashhashhashhashhashhashhashhashhashhashhashhashhashhashhashhashhashhashhashhashhashhashhashhashhashhashhashhashhashhashhashhashhashhashhashhashhashhashhashhashhashhashhashhashhashhashhashhashhashhashhashhashhashhashhashhash'"
      ]
     },
     "execution_count": 29,
     "metadata": {},
     "output_type": "execute_result"
    }
   ],
   "source": [
    "a * 100"
   ]
  },
  {
   "cell_type": "code",
   "execution_count": null,
   "id": "b8768587",
   "metadata": {},
   "outputs": [],
   "source": []
  }
 ],
 "metadata": {
  "kernelspec": {
   "display_name": "Python 3 (ipykernel)",
   "language": "python",
   "name": "python3"
  },
  "language_info": {
   "codemirror_mode": {
    "name": "ipython",
    "version": 3
   },
   "file_extension": ".py",
   "mimetype": "text/x-python",
   "name": "python",
   "nbconvert_exporter": "python",
   "pygments_lexer": "ipython3",
   "version": "3.11.4"
  }
 },
 "nbformat": 4,
 "nbformat_minor": 5
}
